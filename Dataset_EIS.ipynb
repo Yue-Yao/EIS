{
 "cells": [
  {
   "cell_type": "code",
   "execution_count": 312,
   "id": "cf68e438",
   "metadata": {},
   "outputs": [],
   "source": [
    "import pandas as pd\n",
    "import numpy as np\n",
    "import os\n",
    "from glob import glob\n",
    "import re\n",
    "import io\n",
    "import csv"
   ]
  },
  {
   "cell_type": "code",
   "execution_count": 377,
   "id": "cdeb1dfc",
   "metadata": {},
   "outputs": [],
   "source": [
    "# list paths of data in .mpt file\n",
    "datafilespath = glob('data/*.mpt') "
   ]
  },
  {
   "cell_type": "code",
   "execution_count": 378,
   "id": "0721c128",
   "metadata": {
    "scrolled": false
   },
   "outputs": [
    {
     "data": {
      "text/plain": [
       "['data\\\\20220309_(Form02C)EIS_charging_10bis16V_step_01V+(1C+EIS)50cycle_16_GCPL6_C08.mpt',\n",
       " 'data\\\\20220309_(Form02C)EIS_charging_10bis16V_step_01V+(1C+EIS)50cycle_17_GEIS_C08.mpt']"
      ]
     },
     "execution_count": 378,
     "metadata": {},
     "output_type": "execute_result"
    }
   ],
   "source": [
    "datafilespath"
   ]
  },
  {
   "cell_type": "code",
   "execution_count": 432,
   "id": "f5031e5c",
   "metadata": {},
   "outputs": [],
   "source": [
    "def data_cleaner(filepath):\n",
    "    ## open text file\n",
    "    with open(filepath, 'r+') as f:\n",
    "        file_contents = f.read()\n",
    "    ## split the text\n",
    "    text = file_contents.split('\\n\\n')\n",
    "    \n",
    "    if 'GEIS' in filepath:\n",
    "        labor_type = 'GEIS'\n",
    "    else:\n",
    "        if 'GCPL6' in filepath:\n",
    "            labor_type = 'GCPL6'\n",
    "    \n",
    "    os.makedirs('data/'+labor_type, exist_ok=True)\n",
    "    \n",
    "    '''setting data'''\n",
    "    setting = text[2]\n",
    "    setting = setting.split('Cycle Definition : Charge/Discharge alternance\\n')[1]\n",
    "    ## convert ',' to '.' for decimal\n",
    "    setting = setting.replace(',','.')\n",
    "    tmp = []\n",
    "    for t in setting.split('\\n'):\n",
    "        tmp.append(re.split(r'\\s{3,}', t.strip()))\n",
    "    setting = tmp\n",
    "    setting = np.transpose(setting)  \n",
    "    #setting = pd.read_table(setting,header=None,engine='python').T\n",
    "    with open(\"data/\"+labor_type+\"/setting.csv\", \"w\",encoding='utf-8') as text_file:\n",
    "        writer = csv.writer(text_file)\n",
    "        writer.writerows(setting)\n",
    "        \n",
    "        \n",
    "    '''loop data'''\n",
    "    tmp = []\n",
    "    for t in text[3].split('\\n'):\n",
    "        tmp.append([int(s) for s in str(t).split() if s.isdigit()])\n",
    "    tmp =tmp[1:]\n",
    "    loop_data = tmp\n",
    "    with open(\"data/\"+labor_type+\"/loop_data.csv\", \"w\",encoding='utf-8') as text_file:\n",
    "        writer = csv.writer(text_file)\n",
    "        writer.writerows(loop_data)\n",
    "    \n",
    "    \n",
    "    '''labor data'''\n",
    "    ## convert ',' to '.' for decimal\n",
    "    labor_data = text[-1].replace(',','.')\n",
    "    with open(\"data/\"+labor_type+\"/labor_data.csv\", \"w\",encoding='utf-8') as text_file:\n",
    "        text_file.write(labor_data)\n",
    "        \n",
    "        \n",
    "        "
   ]
  },
  {
   "cell_type": "code",
   "execution_count": 433,
   "id": "6962ce8d",
   "metadata": {
    "scrolled": true
   },
   "outputs": [],
   "source": [
    "for path in datafilespath:\n",
    "    data_cleaner(path)"
   ]
  }
 ],
 "metadata": {
  "kernelspec": {
   "display_name": "Python 3 (ipykernel)",
   "language": "python",
   "name": "python3"
  },
  "language_info": {
   "codemirror_mode": {
    "name": "ipython",
    "version": 3
   },
   "file_extension": ".py",
   "mimetype": "text/x-python",
   "name": "python",
   "nbconvert_exporter": "python",
   "pygments_lexer": "ipython3",
   "version": "3.9.7"
  },
  "toc": {
   "base_numbering": 1,
   "nav_menu": {},
   "number_sections": false,
   "sideBar": true,
   "skip_h1_title": false,
   "title_cell": "Table of Contents",
   "title_sidebar": "Contents",
   "toc_cell": false,
   "toc_position": {
    "height": "calc(100% - 180px)",
    "left": "10px",
    "top": "150px",
    "width": "165px"
   },
   "toc_section_display": true,
   "toc_window_display": false
  },
  "varInspector": {
   "cols": {
    "lenName": 16,
    "lenType": 16,
    "lenVar": 40
   },
   "kernels_config": {
    "python": {
     "delete_cmd_postfix": "",
     "delete_cmd_prefix": "del ",
     "library": "var_list.py",
     "varRefreshCmd": "print(var_dic_list())"
    },
    "r": {
     "delete_cmd_postfix": ") ",
     "delete_cmd_prefix": "rm(",
     "library": "var_list.r",
     "varRefreshCmd": "cat(var_dic_list()) "
    }
   },
   "types_to_exclude": [
    "module",
    "function",
    "builtin_function_or_method",
    "instance",
    "_Feature"
   ],
   "window_display": false
  }
 },
 "nbformat": 4,
 "nbformat_minor": 5
}
