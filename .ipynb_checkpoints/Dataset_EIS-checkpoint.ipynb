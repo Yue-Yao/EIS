{
 "cells": [
  {
   "cell_type": "code",
   "execution_count": 312,
   "id": "cf68e438",
   "metadata": {},
   "outputs": [],
   "source": [
    "import pandas as pd\n",
    "import numpy as np\n",
    "import os\n",
    "from glob import glob\n",
    "import re\n",
    "import io\n",
    "import csv"
   ]
  },
  {
   "cell_type": "code",
   "execution_count": 377,
   "id": "eb66ef00",
   "metadata": {},
   "outputs": [],
   "source": [
    "# list paths of data in .mpt file\n",
    "datafilespath = glob('data/*.mpt') "
   ]
  },
  {
   "cell_type": "code",
   "execution_count": 378,
   "id": "385182f6",
   "metadata": {
    "scrolled": false
   },
   "outputs": [
    {
     "data": {
      "text/plain": [
       "['data\\\\20220309_(Form02C)EIS_charging_10bis16V_step_01V+(1C+EIS)50cycle_16_GCPL6_C08.mpt',\n",
       " 'data\\\\20220309_(Form02C)EIS_charging_10bis16V_step_01V+(1C+EIS)50cycle_17_GEIS_C08.mpt']"
      ]
     },
     "execution_count": 378,
     "metadata": {},
     "output_type": "execute_result"
    }
   ],
   "source": [
    "datafilespath"
   ]
  },
  {
   "cell_type": "code",
   "execution_count": 410,
   "id": "f4905565",
   "metadata": {},
   "outputs": [],
   "source": [
    "def data_cleaner(filepath):\n",
    "    ## open text file\n",
    "    with open(filepath, 'r+') as f:\n",
    "        file_contents = f.read()\n",
    "    ## split the text\n",
    "    text = file_contents.split('\\n\\n')\n",
    "    \n",
    "    if 'GEIS' in filepath:\n",
    "        labor_type = 'GEIS'\n",
    "    else:\n",
    "        if 'GCPL6' in filepath:\n",
    "            labor_type = 'GCPL6'\n",
    "    \n",
    "    os.makedirs('data/'+labor_type, exist_ok=True)\n",
    "    \n",
    "    '''setting data'''\n",
    "    setting = text[2]\n",
    "    setting = setting.split('Cycle Definition : Charge/Discharge alternance')[1]\n",
    "    ## convert ',' to '.' for decimal\n",
    "    setting = setting.replace(',','.')\n",
    "    tmp = []\n",
    "    for t in setting.split('\\n'):\n",
    "        tmp.append(re.split(r'\\s{3,}', t.strip()))\n",
    "    setting = tmp\n",
    "    setting = np.transpose(setting).tolist()\n",
    "    #setting = pd.read_table(setting,header=None,engine='python').T\n",
    "    with open(\"data/\"+labor_type+\"/setting.csv\", \"w\",encoding='utf-8') as text_file:\n",
    "        writer = csv.writer(text_file)\n",
    "        writer.writerows(setting)\n",
    "        \n",
    "        \n",
    "    '''loop data'''\n",
    "    tmp = []\n",
    "    for t in text[3].split('\\n'):\n",
    "        tmp.append([int(s) for s in str(t).split() if s.isdigit()])\n",
    "    tmp =tmp[1:]\n",
    "    loop_data = tmp\n",
    "    with open(\"data/\"+labor_type+\"/loop_data.csv\", \"w\",encoding='utf-8') as text_file:\n",
    "        writer = csv.writer(text_file)\n",
    "        writer.writerows(loop_data)\n",
    "    \n",
    "    \n",
    "    '''labor data'''\n",
    "    ## convert ',' to '.' for decimal\n",
    "    labor_data = text[-1].replace(',','.')\n",
    "    with open(\"data/\"+labor_type+\"/labor_data.csv\", \"w\",encoding='utf-8') as text_file:\n",
    "        text_file.write(labor_data)\n",
    "        \n",
    "        \n",
    "        "
   ]
  },
  {
   "cell_type": "code",
   "execution_count": 411,
   "id": "aee00887",
   "metadata": {},
   "outputs": [
    {
     "name": "stdout",
     "output_type": "stream",
     "text": [
      "[[''], ['Mode', 'Single sine'], ['Is', '0.000'], ['unit Is', 'µA'], ['vs.', '<None>'], ['tIs (h:m:s)', '0:00:0.0000'], ['record', '0'], ['dE (mV)', '0.000'], ['dt (s)', '0.000'], ['fi', '1.000'], ['unit fi', 'MHz'], ['ff', '5.000'], ['unit ff', 'mHz'], ['Nd', '6'], ['Points', 'per decade'], ['spacing', 'Logarithmic'], ['Ia/Va', 'Ia'], ['Ia', '5.000'], ['unit  Ia', 'µA'], ['va pourcent', '0.10'], ['pw', '0.10'], ['Na', '2'], ['corr', '0'], ['E range min (V)', '0.000'], ['E range max (V)', '5.000'], ['I Range', '10 µA'], ['Bandwidth', '5'], ['nc cycles', '0'], [\"goto Ns'\", '0'], ['nr cycles', '0'], ['inc. cycle', '0']]\n"
     ]
    }
   ],
   "source": [
    "data_cleaner('data/20220309_(Form02C)EIS_charging_10bis16V_step_01V+(1C+EIS)50cycle_17_GEIS_C08.mpt')"
   ]
  },
  {
   "cell_type": "code",
   "execution_count": 401,
   "id": "dbf14093",
   "metadata": {},
   "outputs": [],
   "source": [
    "## open text file\n",
    "with open('data/20220309_(Form02C)EIS_charging_10bis16V_step_01V+(1C+EIS)50cycle_17_GEIS_C08.mpt', 'r+') as f:\n",
    "    file_contents = f.read()"
   ]
  },
  {
   "cell_type": "code",
   "execution_count": 380,
   "id": "f15fe660",
   "metadata": {},
   "outputs": [],
   "source": [
    "## split the text\n",
    "text = file_contents.split('\\n\\n')"
   ]
  },
  {
   "cell_type": "code",
   "execution_count": 381,
   "id": "ee524b23",
   "metadata": {},
   "outputs": [],
   "source": [
    "##setting data\n",
    "setting = text[2]\n",
    "setting = setting.split('Cycle Definition : Charge/Discharge alternance\\n')[1]\n",
    "## convert ',' to '.' for decimal\n",
    "setting = setting.replace(',','.')"
   ]
  },
  {
   "cell_type": "code",
   "execution_count": 382,
   "id": "12643971",
   "metadata": {},
   "outputs": [],
   "source": [
    "tmp = []\n",
    "for t in setting.split('\\n'):\n",
    "    tmp.append(re.split(r'\\s{3,}', t.strip()))\n",
    "setting = tmp"
   ]
  },
  {
   "cell_type": "code",
   "execution_count": 404,
   "id": "cbe69e1d",
   "metadata": {},
   "outputs": [
    {
     "name": "stdout",
     "output_type": "stream",
     "text": [
      "[['Mode', 'Is', 'unit Is', 'vs.', 'tIs (h:m:s)', 'record', 'dE (mV)', 'dt (s)', 'fi', 'unit fi', 'ff', 'unit ff', 'Nd', 'Points', 'spacing', 'Ia/Va', 'Ia', 'unit  Ia', 'va pourcent', 'pw', 'Na', 'corr', 'E range min (V)', 'E range max (V)', 'I Range', 'Bandwidth', 'nc cycles', \"goto Ns'\", 'nr cycles', 'inc. cycle'], ['Single sine', '0.000', 'µA', '<None>', '0:00:0.0000', '0', '0.000', '0.000', '1.000', 'MHz', '5.000', 'mHz', '6', 'per decade', 'Logarithmic', 'Ia', '5.000', 'µA', '0.10', '0.10', '2', '0', '0.000', '5.000', '10 µA', '5', '0', '0', '0', '0']]\n"
     ]
    }
   ],
   "source": [
    "print(np.transpose(setting).tolist())"
   ]
  },
  {
   "cell_type": "code",
   "execution_count": 383,
   "id": "d7a0089f",
   "metadata": {},
   "outputs": [],
   "source": [
    "with open(\"data/setting.csv\", \"w\",encoding='utf-8') as text_file:\n",
    "    writer = csv.writer(text_file)\n",
    "    writer.writerows(np.transpose(setting).tolist())"
   ]
  }
 ],
 "metadata": {
  "kernelspec": {
   "display_name": "Python 3 (ipykernel)",
   "language": "python",
   "name": "python3"
  },
  "language_info": {
   "codemirror_mode": {
    "name": "ipython",
    "version": 3
   },
   "file_extension": ".py",
   "mimetype": "text/x-python",
   "name": "python",
   "nbconvert_exporter": "python",
   "pygments_lexer": "ipython3",
   "version": "3.9.7"
  },
  "toc": {
   "base_numbering": 1,
   "nav_menu": {},
   "number_sections": false,
   "sideBar": true,
   "skip_h1_title": false,
   "title_cell": "Table of Contents",
   "title_sidebar": "Contents",
   "toc_cell": false,
   "toc_position": {
    "height": "calc(100% - 180px)",
    "left": "10px",
    "top": "150px",
    "width": "165px"
   },
   "toc_section_display": true,
   "toc_window_display": false
  },
  "varInspector": {
   "cols": {
    "lenName": 16,
    "lenType": 16,
    "lenVar": 40
   },
   "kernels_config": {
    "python": {
     "delete_cmd_postfix": "",
     "delete_cmd_prefix": "del ",
     "library": "var_list.py",
     "varRefreshCmd": "print(var_dic_list())"
    },
    "r": {
     "delete_cmd_postfix": ") ",
     "delete_cmd_prefix": "rm(",
     "library": "var_list.r",
     "varRefreshCmd": "cat(var_dic_list()) "
    }
   },
   "types_to_exclude": [
    "module",
    "function",
    "builtin_function_or_method",
    "instance",
    "_Feature"
   ],
   "window_display": false
  }
 },
 "nbformat": 4,
 "nbformat_minor": 5
}
